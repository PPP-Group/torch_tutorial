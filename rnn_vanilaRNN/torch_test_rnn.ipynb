{
 "cells": [
  {
   "cell_type": "code",
   "execution_count": 1,
   "metadata": {},
   "outputs": [
    {
     "name": "stdout",
     "output_type": "stream",
     "text": [
      "Package                       Version\n",
      "----------------------------- --------\n",
      "appnope                       0.1.3\n",
      "asttokens                     2.2.1\n",
      "backcall                      0.2.0\n",
      "backports.functools-lru-cache 1.6.4\n",
      "brotlipy                      0.7.0\n",
      "certifi                       2023.5.7\n",
      "cffi                          1.15.1\n",
      "charset-normalizer            2.0.4\n",
      "cryptography                  39.0.1\n",
      "debugpy                       1.5.1\n",
      "decorator                     5.1.1\n",
      "entrypoints                   0.4\n",
      "executing                     1.2.0\n",
      "filelock                      3.9.0\n",
      "gmpy2                         2.1.2\n",
      "idna                          3.4\n",
      "ipykernel                     6.15.0\n",
      "ipython                       8.12.0\n",
      "jedi                          0.18.2\n",
      "Jinja2                        3.1.2\n",
      "jupyter-client                7.3.4\n",
      "jupyter_core                  5.3.0\n",
      "MarkupSafe                    2.1.1\n",
      "matplotlib-inline             0.1.6\n",
      "mpmath                        1.2.1\n",
      "nest-asyncio                  1.5.6\n",
      "networkx                      2.8.4\n",
      "numpy                         1.24.3\n",
      "packaging                     23.1\n",
      "parso                         0.8.3\n",
      "pexpect                       4.8.0\n",
      "pickleshare                   0.7.5\n",
      "Pillow                        9.4.0\n",
      "pip                           23.0.1\n",
      "platformdirs                  2.5.2\n",
      "prompt-toolkit                3.0.38\n",
      "psutil                        5.9.0\n",
      "ptyprocess                    0.7.0\n",
      "pure-eval                     0.2.2\n",
      "pycparser                     2.21\n",
      "Pygments                      2.15.1\n",
      "pyOpenSSL                     23.0.0\n",
      "PySocks                       1.7.1\n",
      "python-dateutil               2.8.2\n",
      "pyzmq                         25.0.2\n",
      "requests                      2.29.0\n",
      "setuptools                    67.8.0\n",
      "six                           1.16.0\n",
      "stack-data                    0.6.2\n",
      "sympy                         1.11.1\n",
      "torch                         2.0.1\n",
      "torchaudio                    2.0.2\n",
      "torchvision                   0.15.2\n",
      "tornado                       6.1\n",
      "traitlets                     5.9.0\n",
      "typing_extensions             4.5.0\n",
      "urllib3                       1.26.15\n",
      "wcwidth                       0.2.6\n",
      "wheel                         0.38.4\n"
     ]
    }
   ],
   "source": [
    "!pip list"
   ]
  },
  {
   "cell_type": "code",
   "execution_count": 3,
   "metadata": {},
   "outputs": [],
   "source": [
    "import numpy as np\n",
    "import torch\n",
    "import torch.nn as nn\n",
    "import torch.optim as optim"
   ]
  },
  {
   "cell_type": "code",
   "execution_count": 4,
   "metadata": {},
   "outputs": [],
   "source": [
    "sentences = [\"i like dog\", \"i love coffee\", \"i hate milk\", \"you like cat\", \"you love milk\", \"you hate coffee\"]\n",
    "dtype = torch.float"
   ]
  },
  {
   "cell_type": "code",
   "execution_count": 5,
   "metadata": {},
   "outputs": [
    {
     "name": "stdout",
     "output_type": "stream",
     "text": [
      "word_list : ['cat', 'i', 'milk', 'love', 'dog', 'coffee', 'hate', 'like', 'you']\n",
      "word_dict : {'cat': 0, 'i': 1, 'milk': 2, 'love': 3, 'dog': 4, 'coffee': 5, 'hate': 6, 'like': 7, 'you': 8}\n",
      "number_dict : {0: 'cat', 1: 'i', 2: 'milk', 3: 'love', 4: 'dog', 5: 'coffee', 6: 'hate', 7: 'like', 8: 'you'}\n",
      "n_class : 9\n"
     ]
    }
   ],
   "source": [
    "\"\"\"\n",
    "Word Processing\n",
    "\"\"\"\n",
    "\n",
    "word_list = list(set(\" \".join(sentences).split()))\n",
    "word_dict = {w:i for i, w in enumerate(word_list)}\n",
    "number_dict = {i:w for i, w in enumerate(word_list)}\n",
    "n_class = len(word_dict)\n",
    "print(f'word_list : {word_list}')\n",
    "print(f'word_dict : {word_dict}')\n",
    "print(f'number_dict : {number_dict}')\n",
    "print(f'n_class : {n_class}')"
   ]
  },
  {
   "cell_type": "code",
   "execution_count": 6,
   "metadata": {},
   "outputs": [],
   "source": [
    "\"\"\"\n",
    "TextRNN Parameter\n",
    "\"\"\"\n",
    "batch_size = len(sentences)\n",
    "n_step = 2 #학습하려고 하는 문장의 길이 -1\n",
    "n_hidden = 5 #은닉층 사이즈\n",
    "\n",
    "def make_batch(sentences):\n",
    "    input_batch = []\n",
    "    target_batch = []\n",
    "\n",
    "    for sen in sentences:\n",
    "        word = sen.split()\n",
    "        input = [word_dict[n] for n in word[:-1]]\n",
    "        target = word_dict[word[-1]]\n",
    "\n",
    "        input_batch.append(np.eye(n_class)[input])\n",
    "        target_batch.append(target)\n",
    "\n",
    "    return input_batch, target_batch"
   ]
  },
  {
   "cell_type": "code",
   "execution_count": 7,
   "metadata": {},
   "outputs": [
    {
     "name": "stderr",
     "output_type": "stream",
     "text": [
      "/var/folders/lc/j0l_nf3s0pb9j49j6xsdn_p00000gn/T/ipykernel_11862/178811079.py:2: UserWarning: Creating a tensor from a list of numpy.ndarrays is extremely slow. Please consider converting the list to a single numpy.ndarray with numpy.array() before converting to a tensor. (Triggered internally at /Users/runner/work/_temp/anaconda/conda-bld/pytorch_1682343685278/work/torch/csrc/utils/tensor_new.cpp:248.)\n",
      "  input_batch = torch.tensor(input_batch, dtype=torch.float32, requires_grad=True)\n"
     ]
    }
   ],
   "source": [
    "input_batch, target_batch = make_batch(sentences)\n",
    "input_batch = torch.tensor(input_batch, dtype=torch.float32, requires_grad=True)\n",
    "target_batch = torch.tensor(target_batch, dtype=torch.int64)"
   ]
  },
  {
   "cell_type": "code",
   "execution_count": 9,
   "metadata": {},
   "outputs": [],
   "source": [
    "\"\"\"\n",
    "TextRNN\n",
    "\"\"\"\n",
    "\n",
    "class TextRNN(nn.Module):\n",
    "    def __init__(self):\n",
    "        super(TextRNN, self).__init__()\n",
    "        self.rnn = nn.RNN(input_size=n_class, hidden_size=n_hidden, dropout=0.3)\n",
    "        self.W = nn.Parameter(torch.randn([n_hidden, n_class]).type(dtype))\n",
    "        self.b = nn.Parameter(torch.randn([n_class]).type(dtype))\n",
    "        self.Softmax = nn.Softmax(dim=1)\n",
    "    \n",
    "    def forward(self, hidden, x):\n",
    "        x = x.transpose(0, 1)\n",
    "        outputs, hidden = self.rnn(x, hidden)\n",
    "        outputs = outputs[-1] #최종 예측 hidden layer\n",
    "        model = torch.mm(outputs, self.W) + self.b #최종 예측의 최종 출력 layer\n",
    "        return model"
   ]
  },
  {
   "cell_type": "code",
   "execution_count": 10,
   "metadata": {},
   "outputs": [
    {
     "name": "stdout",
     "output_type": "stream",
     "text": [
      "Epoch: 0100 cost = 1.034207\n",
      "Epoch: 0200 cost = 0.204521\n",
      "Epoch: 0300 cost = 0.048151\n",
      "Epoch: 0400 cost = 0.025182\n",
      "Epoch: 0500 cost = 0.016154\n"
     ]
    },
    {
     "name": "stderr",
     "output_type": "stream",
     "text": [
      "/Users/choejaehun/anaconda3/envs/torch/lib/python3.8/site-packages/torch/nn/modules/rnn.py:71: UserWarning: dropout option adds dropout after all but last recurrent layer, so non-zero dropout expects num_layers greater than 1, but got dropout=0.3 and num_layers=1\n",
      "  warnings.warn(\"dropout option adds dropout after all but last \"\n"
     ]
    }
   ],
   "source": [
    "\"\"\"\n",
    "Training\n",
    "\"\"\"\n",
    "model = TextRNN()\n",
    "criterion = nn.CrossEntropyLoss()\n",
    "optimizer = optim.Adam(model.parameters(), lr=0.01)\n",
    "\n",
    "for epoch in range(500):\n",
    "    hidden = torch.zeros(1, batch_size, n_hidden, requires_grad=True)\n",
    "    output = model(hidden, input_batch)\n",
    "    loss = criterion(output, target_batch)\n",
    "\n",
    "    if (epoch + 1) % 100 == 0:\n",
    "        print('Epoch:', '%04d' % (epoch + 1), 'cost =', '{:.6f}'.format(loss))\n",
    "\n",
    "    optimizer.zero_grad()\n",
    "    loss.backward()\n",
    "    optimizer.step()"
   ]
  },
  {
   "cell_type": "code",
   "execution_count": 11,
   "metadata": {},
   "outputs": [
    {
     "name": "stdout",
     "output_type": "stream",
     "text": [
      "[['i', 'like'], ['i', 'love'], ['i', 'hate'], ['you', 'like'], ['you', 'love'], ['you', 'hate']] -> ['dog', 'coffee', 'milk', 'cat', 'milk', 'coffee']\n"
     ]
    }
   ],
   "source": [
    "input = [sen.split()[:2] for sen in sentences]\n",
    "\n",
    "hidden = torch.zeros(1, batch_size, n_hidden, requires_grad=True)\n",
    "predict = model(hidden, input_batch).data.max(1, keepdim=True)[1]\n",
    "print([sen.split()[:2] for sen in sentences], '->', [number_dict[n.item()] for n in predict.squeeze()])"
   ]
  },
  {
   "cell_type": "code",
   "execution_count": null,
   "metadata": {},
   "outputs": [],
   "source": []
  }
 ],
 "metadata": {
  "kernelspec": {
   "display_name": "torch",
   "language": "python",
   "name": "python3"
  },
  "language_info": {
   "codemirror_mode": {
    "name": "ipython",
    "version": 3
   },
   "file_extension": ".py",
   "mimetype": "text/x-python",
   "name": "python",
   "nbconvert_exporter": "python",
   "pygments_lexer": "ipython3",
   "version": "3.8.16"
  },
  "orig_nbformat": 4
 },
 "nbformat": 4,
 "nbformat_minor": 2
}
