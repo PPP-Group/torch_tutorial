{
  "nbformat": 4,
  "nbformat_minor": 0,
  "metadata": {
    "colab": {
      "provenance": []
    },
    "kernelspec": {
      "name": "python3",
      "display_name": "Python 3"
    },
    "language_info": {
      "name": "python"
    }
  },
  "cells": [
    {
      "cell_type": "markdown",
      "source": [
        "### <b>누락된 데이터 처리하기</b>\n",
        "\n",
        "* 현실 세계의 다양한 데이터 세트는 누락된 데이터를 포함하는 경우가 많다.\n",
        "* 누락된 데이터를 처리하는 코드를 작성해 보자.\n",
        "* 누락된 데이터를 다루는 방법은 다양하며, 대표적인 사례는 다음과 같다.\n",
        "\n",
        "1. <b>값을 0으로</b> 대입하는 방법\n",
        "  * <b>df.fillna(0)</b>: 누락된 데이터를 0으로 채우기 \n",
        "2. 해당 특징(feature)의 <b>평균 값</b>을 대입하는 방법\n",
        "  * <b>df.fillna(df.mean())</b>: 누락된 데이터를 해당 열(column)의 평균으로 채우기"
      ],
      "metadata": {
        "id": "ghCA71eJV41h"
      }
    },
    {
      "cell_type": "code",
      "source": [
        "import random\n",
        "import pandas as pd\n",
        "import os\n",
        "import numpy as np\n",
        "import time\n",
        "import pandas as pd"
      ],
      "metadata": {
        "id": "r_x8BySGbnzq"
      },
      "execution_count": null,
      "outputs": []
    },
    {
      "cell_type": "markdown",
      "source": [
        "#### <b>Pandas로 누락된 데이터 처리하기</b>\n",
        "\n",
        "* <b>dropna()</b>: NaN 값이 하나라도 포함된 행(row)을 삭제한다.\n",
        "* <b>dropna(how=\"all\")</b>: 모든 열의 값이 NaN인 행(row)을 삭제한다.\n",
        "* <b>dropna(how=\"any\")</b>: dropna()과 동일하다.\n",
        "* <b>dropna(thresh=5)</b>: 누락된 데이터를 제외한 열이 5개 이상이면 해당 행(row)을 남긴다.\n",
        "* <b>fillna()</b>: 누락된 데이터를 원하는 값으로 채운다."
      ],
      "metadata": {
        "id": "EKIajHyNd1Fi"
      }
    },
    {
      "cell_type": "code",
      "source": [
        "df = pd.DataFrame([\n",
        "    [98, np.nan, 88],\n",
        "    [73, np.nan, np.nan],\n",
        "    [92, 71, 82],\n",
        "    [np.nan, np.nan, np.nan],\n",
        "    [72, 91, 78]\n",
        "], columns=[\"Math\", \"Science\", \"English\"])\n",
        "\n",
        "print(df)"
      ],
      "metadata": {
        "colab": {
          "base_uri": "https://localhost:8080/"
        },
        "id": "010qmKCgdSyL",
        "outputId": "976c2504-79ee-43b0-cf6c-f8415cf9fade"
      },
      "execution_count": null,
      "outputs": [
        {
          "output_type": "stream",
          "name": "stdout",
          "text": [
            "   Math  Science  English\n",
            "0  98.0      NaN     88.0\n",
            "1  73.0      NaN      NaN\n",
            "2  92.0     71.0     82.0\n",
            "3   NaN      NaN      NaN\n",
            "4  72.0     91.0     78.0\n"
          ]
        }
      ]
    },
    {
      "cell_type": "code",
      "source": [
        "# NaN 값이 하나라도 포함된 행(row)을 삭제\n",
        "processed = df.dropna()\n",
        "print(processed)"
      ],
      "metadata": {
        "colab": {
          "base_uri": "https://localhost:8080/"
        },
        "id": "09Ap4KOEehrx",
        "outputId": "a8a10695-531a-450d-98fb-314e56516e0a"
      },
      "execution_count": null,
      "outputs": [
        {
          "output_type": "stream",
          "name": "stdout",
          "text": [
            "   Math  Science  English\n",
            "2  92.0     71.0     82.0\n",
            "4  72.0     91.0     78.0\n"
          ]
        }
      ]
    },
    {
      "cell_type": "code",
      "source": [
        "# 모든 열의 값이 NaN인 행(row)을 삭제\n",
        "processed = df.dropna(how=\"all\")\n",
        "print(processed)"
      ],
      "metadata": {
        "colab": {
          "base_uri": "https://localhost:8080/"
        },
        "id": "ZutNHEHveuMZ",
        "outputId": "0ab1b777-79a4-499a-a6f9-16346229c457"
      },
      "execution_count": null,
      "outputs": [
        {
          "output_type": "stream",
          "name": "stdout",
          "text": [
            "   Math  Science  English\n",
            "0  98.0      NaN     88.0\n",
            "1  73.0      NaN      NaN\n",
            "2  92.0     71.0     82.0\n",
            "4  72.0     91.0     78.0\n"
          ]
        }
      ]
    },
    {
      "cell_type": "code",
      "source": [
        "# 누락된 데이터를 제외한 열이 2개 이상이면 해당 행(row)을 남김\n",
        "processed = df.dropna(thresh=2)\n",
        "print(processed)"
      ],
      "metadata": {
        "colab": {
          "base_uri": "https://localhost:8080/"
        },
        "id": "qYOkk8DHe1aR",
        "outputId": "d3af98e0-a2e1-4601-e4e3-8df8a40b77d3"
      },
      "execution_count": null,
      "outputs": [
        {
          "output_type": "stream",
          "name": "stdout",
          "text": [
            "   Math  Science  English\n",
            "0  98.0      NaN     88.0\n",
            "2  92.0     71.0     82.0\n",
            "4  72.0     91.0     78.0\n"
          ]
        }
      ]
    },
    {
      "cell_type": "code",
      "source": [
        "# 누락된 데이터를 0으로 채우기\n",
        "processed = df.fillna(0)\n",
        "print(processed)"
      ],
      "metadata": {
        "colab": {
          "base_uri": "https://localhost:8080/"
        },
        "id": "u-0UAR9Ofh1S",
        "outputId": "cf04a59c-758f-4957-e500-7950e21d9566"
      },
      "execution_count": null,
      "outputs": [
        {
          "output_type": "stream",
          "name": "stdout",
          "text": [
            "   Math  Science  English\n",
            "0  98.0      0.0     88.0\n",
            "1  73.0      0.0      0.0\n",
            "2  92.0     71.0     82.0\n",
            "3   0.0      0.0      0.0\n",
            "4  72.0     91.0     78.0\n"
          ]
        }
      ]
    },
    {
      "cell_type": "code",
      "source": [
        "# 누락된 데이터를 해당 열(column)의 평균으로 채우기\n",
        "processed = df.fillna(df.mean())\n",
        "print(processed)"
      ],
      "metadata": {
        "colab": {
          "base_uri": "https://localhost:8080/"
        },
        "id": "TwJL4_Xofl-a",
        "outputId": "930aef30-7483-4526-f99a-60f57046126d"
      },
      "execution_count": null,
      "outputs": [
        {
          "output_type": "stream",
          "name": "stdout",
          "text": [
            "    Math  Science    English\n",
            "0  98.00     81.0  88.000000\n",
            "1  73.00     81.0  82.666667\n",
            "2  92.00     71.0  82.000000\n",
            "3  83.75     81.0  82.666667\n",
            "4  72.00     91.0  78.000000\n"
          ]
        }
      ]
    },
    {
      "cell_type": "code",
      "source": [
        "# 누락된 데이터를 처리한 뒤에도 원본 df의 값은 유지\n",
        "print(df)"
      ],
      "metadata": {
        "colab": {
          "base_uri": "https://localhost:8080/"
        },
        "id": "XZjoXxCGfC0i",
        "outputId": "f7bb5ff6-ce43-467a-bb48-fe5d634bc2e2"
      },
      "execution_count": null,
      "outputs": [
        {
          "output_type": "stream",
          "name": "stdout",
          "text": [
            "   Math  Science  English\n",
            "0  98.0      NaN     88.0\n",
            "1  73.0      NaN      NaN\n",
            "2  92.0     71.0     82.0\n",
            "3   NaN      NaN      NaN\n",
            "4  72.0     91.0     78.0\n"
          ]
        }
      ]
    },
    {
      "cell_type": "markdown",
      "source": [
        "#### <b>학생 정보 데이터 세트 다루기</b>\n",
        "\n",
        "* 학교에서는 학생 정보 관리 프로그램을 사용될 수 있다.\n",
        "* <b>누락된</b> 데이터를 포함하는 <b>가상의 학생 정보</b>를 생성하여, 파일 형태로 저장해 보자."
      ],
      "metadata": {
        "id": "E24MbvZzdDIb"
      }
    },
    {
      "cell_type": "markdown",
      "source": [
        "#### <b>1. 랜덤 데이터 생성 함수 (누락된 데이터 포함)</b>\n",
        "\n",
        "* 랜덤 데이터 생성 함수를 작성한다.\n",
        "* 파이썬(python)의 <b>random 라이브러리</b>를 사용할 수 있다.\n",
        "* 가상 데이터 세트를 생성하여, <b>누락된 데이터</b> 세트를 다루어 보자."
      ],
      "metadata": {
        "id": "f4Q2dWrxWTZK"
      }
    },
    {
      "cell_type": "code",
      "source": [
        "last_names = [\n",
        "    \"Smith\", \"Johnson\", \"Williams\", \"Jones\", \"Brown\",\n",
        "    \"Davis\", \"Miller\", \"Wilson\", \"Moore\", \"Taylor\",\n",
        "    \"Anderson\", \"Thomas\", \"Jackson\", \"White\", \"Harris\",\n",
        "    \"Martin\", \"Thompson\", \"Garcia\", \"Martinez\", \"Robinson\",\n",
        "    \"Clark\", \"Rodriguez\", \"Lewis\", \"Lee\", \"Walker\",\n",
        "    \"Hall\", \"Allen\", \"Young\", \"Hernandez\", \"King\"\n",
        "]\n",
        "\n",
        "first_names = [\n",
        "    \"James\", \"Mary\", \"Robert\", \"Patricia\"\t, \"John\",\n",
        "    \"Jennifer\", \"Michael\", \"Linda\", \"David\", \"Elizabeth\",\n",
        "    \"William\", \"Barbara\", \"Richard\", \"Susan\", \"Joseph\",\n",
        "    \"Jessica\", \"Thomas\", \"Sarah\", \"Charles\", \"Karen\",\n",
        "    \"Christopher\", \"Lisa\", \"Daniel\", \"Nancy\", \"Matthew\",\n",
        "    \"Betty\", \"Anthony\", \"Margaret\", \"Mark\", \"Sandra\"\n",
        "]\n",
        "\n",
        "departments = [\n",
        "    \"Computer Science\",\n",
        "    \"Mechanical Engineering\",\n",
        "    \"Biomedical Engineering\",\n",
        "    \"Radiology\",\n",
        "    \"Psychology\",\n",
        "    None\n",
        "]\n",
        "\n",
        "mu = 50\n",
        "sigma = 10\n",
        "\n",
        "grades = [1, 2, 3, None]\n",
        "\n",
        "def generate_name():\n",
        "    # 랜덤으로 하나의 성(last name) 추출\n",
        "    last_name = random.choice(last_names)\n",
        "    # 랜덤으로 하나의 이름(first name) 추출\n",
        "    first_name = random.choice(first_names)\n",
        "    return first_name + \" \" + last_name\n",
        "\n",
        "def genearte_department():\n",
        "    # 랜덤으로 하나의 학과(department) 추출\n",
        "    return random.choice(departments)\n",
        "\n",
        "def generate_score():\n",
        "    # 랜덤으로 하나의 성적(score) 추출\n",
        "    return np.random.normal(mu, sigma, 1)[0]\n",
        "\n",
        "def generate_grades():\n",
        "    # 랜덤으로 하나의 학년(grade) 추출\n",
        "    return random.choice(grades)"
      ],
      "metadata": {
        "id": "w_A-tyZhblri"
      },
      "execution_count": null,
      "outputs": []
    },
    {
      "cell_type": "markdown",
      "source": [
        "#### <b>2. 랜덤 학생 정보 생성하기</b>\n",
        "\n",
        "* 실질적으로 학생 정보를 100건 포함한 데이터 세트를 생성해 보자.\n",
        "* 테이블(table) 형태의 데이터에 해당하므로, <b>판다스(Pandas)</b>의 <b>데이터프레임(dataframe)</b> 형태로 저장할 수 있다."
      ],
      "metadata": {
        "id": "mcrujo-DbpVp"
      }
    },
    {
      "cell_type": "code",
      "source": [
        "# 학생 정보 생성 함수\n",
        "def generate_student():\n",
        "    name = generate_name()\n",
        "    department = genearte_department()\n",
        "    score = generate_score()\n",
        "    grade = generate_grades()\n",
        "\n",
        "    return name, department, score, grade\n",
        "\n",
        "def generate_dataset(cnt, path):\n",
        "    students = []\n",
        "\n",
        "    # 다수의 학생 데이터 생성 (학번, 이름, 학과, 성적, 학년)\n",
        "    for id in range(1, cnt + 1):\n",
        "        name, department, score, grade = generate_student()\n",
        "        students.append((id, name, department, score, grade))\n",
        "\n",
        "    df = pd.DataFrame(students, columns=[\"id\", \"name\", \"department\", \"score\", \"grade\"])\n",
        "    df.to_csv(path) # 학생 데이터를 엑셀 파일(.csv) 형태로 저장\n",
        "    df.head()\n",
        "\n",
        "generate_dataset(100, \"students_100.csv\")"
      ],
      "metadata": {
        "id": "eWK8shqqbqTy"
      },
      "execution_count": null,
      "outputs": []
    },
    {
      "cell_type": "code",
      "source": [
        "path = \"students_100.csv\"\n",
        "\n",
        "print(f\"[File: {path}]\")\n",
        "n = os.path.getsize(path)\n",
        "print(f\"Total size: {n:.2f} bytes.\")\n",
        "print(f\"Total size: {n / 1024:.2f} KB.\")\n",
        "print(f\"Total size: {n / 1024 / 1024:.2f} MB.\")"
      ],
      "metadata": {
        "colab": {
          "base_uri": "https://localhost:8080/"
        },
        "id": "hht267Wjbsry",
        "outputId": "cbe19843-1451-475c-989d-be25b00d515c"
      },
      "execution_count": null,
      "outputs": [
        {
          "output_type": "stream",
          "name": "stdout",
          "text": [
            "[File: students_100.csv]\n",
            "Total size: 5730.00 bytes.\n",
            "Total size: 5.60 KB.\n",
            "Total size: 0.01 MB.\n"
          ]
        }
      ]
    },
    {
      "cell_type": "markdown",
      "source": [
        "#### <b>3. 파일 입력을 통해 데이터 불러오기</b>\n",
        "\n",
        "* <b>엑셀 파일(.csv)</b>의 경우 <b>판다스(Pandas) 라이브러리</b>를 이용해 <b>데이터프레임(dataframe)</b> 형태로 불러올 수 있다.\n",
        "  * NaN 값이 하나라도 포함된 행(row)을 삭제한다."
      ],
      "metadata": {
        "id": "T8q_QcRdchow"
      }
    },
    {
      "cell_type": "code",
      "source": [
        "def csv_reader(path, option=\"any\"):\n",
        "    start_time = time.time()\n",
        "\n",
        "    students = []\n",
        "    df = pd.read_csv(path)\n",
        "    if option == \"any\":\n",
        "        # NaN 값이 하나라도 포함된 행(row)을 삭제\n",
        "        df = df.dropna()\n",
        "    elif option == \"all\":\n",
        "        # 모든 열의 값이 NaN인 행(row)을 삭제\n",
        "        df = df.dropna(how=\"all\")\n",
        "    for index, row in df.iterrows():\n",
        "        id = row[\"id\"]\n",
        "        name = row[\"name\"]\n",
        "        department = row[\"department\"]\n",
        "        score = row[\"score\"]\n",
        "        grade = row[\"grade\"]\n",
        "        student = (id, name, department, score, grade)\n",
        "        students.append(student)\n",
        "\n",
        "    print(f\"Data inserted ({time.time() - start_time:.4f} seconds.)\")\n",
        "    return students\n",
        "\n",
        "students = csv_reader(\"students_100.csv\", \"any\")\n",
        "print(f\"데이터 개수: {len(students)}\")\n",
        "print(students[0])\n",
        "print(students[1])\n",
        "print(students[2])\n",
        "print(students[3])\n",
        "print(students[4])"
      ],
      "metadata": {
        "colab": {
          "base_uri": "https://localhost:8080/"
        },
        "id": "Ilj6G2nvck-h",
        "outputId": "5c451ed9-c122-4427-8dd4-034f08006373"
      },
      "execution_count": null,
      "outputs": [
        {
          "output_type": "stream",
          "name": "stdout",
          "text": [
            "Data inserted (0.0276 seconds.)\n",
            "데이터 개수: 73\n",
            "(1, 'Lisa Young', 'Biomedical Engineering', 54.57530630860605, 2.0)\n",
            "(3, 'Thomas White', 'Psychology', 65.52733045650996, 2.0)\n",
            "(5, 'Christopher Hernandez', 'Biomedical Engineering', 44.046702557976616, 3.0)\n",
            "(6, 'Michael Williams', 'Computer Science', 37.64270972018466, 3.0)\n",
            "(7, 'Karen Thompson', 'Radiology', 61.41871606581611, 3.0)\n"
          ]
        }
      ]
    }
  ]
}